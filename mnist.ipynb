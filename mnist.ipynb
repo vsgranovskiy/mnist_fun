{
  "nbformat": 4,
  "nbformat_minor": 0,
  "metadata": {
    "colab": {
      "name": "mnist.ipynb",
      "provenance": []
    },
    "kernelspec": {
      "name": "python3",
      "display_name": "Python 3"
    }
  },
  "cells": [
    {
      "cell_type": "markdown",
      "metadata": {
        "id": "FF_JT6wbDvC7",
        "colab_type": "text"
      },
      "source": [
        "**Trying some classic ML model on MNIST dataset**"
      ]
    },
    {
      "cell_type": "code",
      "metadata": {
        "id": "rtiQZCgyroQr",
        "colab_type": "code",
        "outputId": "d6258fb6-2573-4cd0-c93b-825521e86147",
        "colab": {
          "base_uri": "https://localhost:8080/",
          "height": 130
        }
      },
      "source": [
        "from google.colab import drive\n",
        "drive.mount('/content/drive')"
      ],
      "execution_count": 0,
      "outputs": [
        {
          "output_type": "stream",
          "text": [
            "Go to this URL in a browser: https://accounts.google.com/o/oauth2/auth?client_id=947318989803-6bn6qk8qdgf4n4g3pfee6491hc0brc4i.apps.googleusercontent.com&redirect_uri=urn%3Aietf%3Awg%3Aoauth%3A2.0%3Aoob&scope=email%20https%3A%2F%2Fwww.googleapis.com%2Fauth%2Fdocs.test%20https%3A%2F%2Fwww.googleapis.com%2Fauth%2Fdrive%20https%3A%2F%2Fwww.googleapis.com%2Fauth%2Fdrive.photos.readonly%20https%3A%2F%2Fwww.googleapis.com%2Fauth%2Fpeopleapi.readonly&response_type=code\n",
            "\n",
            "Enter your authorization code:\n",
            "··········\n",
            "Mounted at /content/drive\n"
          ],
          "name": "stdout"
        }
      ]
    },
    {
      "cell_type": "code",
      "metadata": {
        "id": "tqa16L0JrfGy",
        "colab_type": "code",
        "colab": {}
      },
      "source": [
        "import shutil\n",
        "shutil.copyfile(\"/content/drive/My Drive/Colab Notebooks/kaggle/kaggle.json\", \"/root/.kaggle/kaggle.json\")\n",
        "!chmod 600 /root/.kaggle/kaggle.json\n",
        "!kaggle competitions download -c digit-recognizer"
      ],
      "execution_count": 0,
      "outputs": []
    },
    {
      "cell_type": "code",
      "metadata": {
        "id": "gCwmORFGvheP",
        "colab_type": "code",
        "colab": {}
      },
      "source": [
        "import pandas as pd\n",
        "import numpy as np\n",
        "import matplotlib.pyplot as plt\n",
        "import sys\n",
        "import xgboost\n",
        "from sklearn.ensemble import RandomForestClassifier\n",
        "from sklearn.metrics import accuracy_score\n",
        "from sklearn.model_selection import train_test_split\n",
        "from sklearn.model_selection import cross_validate\n",
        "from sklearn.neighbors import KNeighborsClassifier"
      ],
      "execution_count": 0,
      "outputs": []
    },
    {
      "cell_type": "code",
      "metadata": {
        "id": "QezXtDyzt7rD",
        "colab_type": "code",
        "colab": {}
      },
      "source": [
        "train_data = pd.read_csv('/content/drive/My Drive/Colab Notebooks/kaggle/mnist/data/train.csv')\n",
        "X_test  = pd.read_csv('/content/drive/My Drive/Colab Notebooks/kaggle/mnist/data/test.csv')"
      ],
      "execution_count": 0,
      "outputs": []
    },
    {
      "cell_type": "code",
      "metadata": {
        "id": "z53j-6JzDtGN",
        "colab_type": "code",
        "colab": {}
      },
      "source": [
        "X_train, X_valid, y_train, y_valid = train_test_split(train_data[train_data.columns[1:]], train_data.label, test_size=0.3)"
      ],
      "execution_count": 0,
      "outputs": []
    },
    {
      "cell_type": "markdown",
      "metadata": {
        "id": "YMs9MrLb0ap1",
        "colab_type": "text"
      },
      "source": [
        "**Random Forest**"
      ]
    },
    {
      "cell_type": "code",
      "metadata": {
        "id": "BpOcF8ldE4ZC",
        "colab_type": "code",
        "colab": {}
      },
      "source": [
        "score = []\n",
        "\n",
        "for n in range(1, 150, 5):\n",
        "  forest = RandomForestClassifier(n_estimators=n, n_jobs=-1).fit(X_train, y_train)\n",
        "  y_pred = forest.predict(X_valid)\n",
        "  score.append(accuracy_score(y_valid, y_pred))\n",
        "  \n",
        "  sys.stdout.write('\\r')\n",
        "  sys.stdout.write('{}/150'.format(n))\n",
        "  sys.stdout.flush()"
      ],
      "execution_count": 0,
      "outputs": []
    },
    {
      "cell_type": "code",
      "metadata": {
        "id": "_LYI8NBrv7Ap",
        "colab_type": "code",
        "colab": {}
      },
      "source": [
        "fig, ax = plt.subplots(1, figsize=(10, 5))\n",
        "ax.plot(range(1, 150, 5), score, label='Accuracy score')\n",
        "ax.set_xlabel('n_estimators')\n",
        "ax.set_ylabel('accuracy')\n"
      ],
      "execution_count": 0,
      "outputs": []
    },
    {
      "cell_type": "code",
      "metadata": {
        "id": "FKZLQamLHo36",
        "colab_type": "code",
        "colab": {}
      },
      "source": [
        "best_n_estimators = 70"
      ],
      "execution_count": 0,
      "outputs": []
    },
    {
      "cell_type": "code",
      "metadata": {
        "id": "Bl1O9NakwY3c",
        "colab_type": "code",
        "colab": {}
      },
      "source": [
        "score = []\n",
        "\n",
        "for n in range(1, 60, 5):\n",
        "  forest = RandomForestClassifier(n_estimators=best_n_estimators, \n",
        "                                  max_depth=n,\n",
        "                                  n_jobs=-1).fit(X_train, y_train)\n",
        "  y_pred = forest.predict(X_valid)\n",
        "  score.append(accuracy_score(y_valid, y_pred))\n",
        "  \n",
        "  sys.stdout.write('\\r')\n",
        "  sys.stdout.write('{}/60'.format(n))\n",
        "  sys.stdout.flush()"
      ],
      "execution_count": 0,
      "outputs": []
    },
    {
      "cell_type": "code",
      "metadata": {
        "id": "h0HhXKThINdz",
        "colab_type": "code",
        "colab": {}
      },
      "source": [
        "fig, ax = plt.subplots(1, figsize=(10, 5))\n",
        "ax.plot(range(1, 60, 5), score, label='Accuracy score')\n",
        "ax.set_xlabel('max_depth')\n",
        "ax.set_ylabel('accuracy')"
      ],
      "execution_count": 0,
      "outputs": []
    },
    {
      "cell_type": "code",
      "metadata": {
        "id": "xvEZLk4kINN7",
        "colab_type": "code",
        "colab": {}
      },
      "source": [
        "best_max_depth = 15"
      ],
      "execution_count": 0,
      "outputs": []
    },
    {
      "cell_type": "code",
      "metadata": {
        "id": "gF3rNEw8rnOD",
        "colab_type": "code",
        "outputId": "8d4674d0-101b-46c2-bdc4-faae08802478",
        "colab": {
          "base_uri": "https://localhost:8080/",
          "height": 36
        }
      },
      "source": [
        "forest = RandomForestClassifier(n_estimators=best_n_estimators, \n",
        "                                max_depth=best_max_depth, n_jobs=-1)\n",
        "\n",
        "cv_results = cross_validate(forest, X_train, y_train, cv=5,\n",
        "                            return_train_score=False, scoring='accuracy')\n",
        "\n",
        "sorted(cv_results.keys())                         \n",
        "cv_results['test_score']    \n"
      ],
      "execution_count": 0,
      "outputs": [
        {
          "output_type": "execute_result",
          "data": {
            "text/plain": [
              "array([0.9535951 , 0.95460728, 0.96497194, 0.95542702, 0.95779442])"
            ]
          },
          "metadata": {
            "tags": []
          },
          "execution_count": 40
        }
      ]
    },
    {
      "cell_type": "markdown",
      "metadata": {
        "id": "D93WmAB20d_-",
        "colab_type": "text"
      },
      "source": [
        "**XGBoost**"
      ]
    },
    {
      "cell_type": "code",
      "metadata": {
        "id": "cltLPLgh1t4W",
        "colab_type": "code",
        "colab": {}
      },
      "source": [
        "learning_rate = [0.001, 0.01, 0.1, 1]\n",
        "n_estimators  = range(0, 100, 5)\n",
        "max_depth     = range(0, 50, 5)"
      ],
      "execution_count": 0,
      "outputs": []
    },
    {
      "cell_type": "code",
      "metadata": {
        "id": "L_rvrEV80Uzh",
        "colab_type": "code",
        "outputId": "d090eaa5-e98f-4756-c468-e5ac2bb8ff57",
        "colab": {
          "base_uri": "https://localhost:8080/",
          "height": 17
        }
      },
      "source": [
        "score = []\n",
        "\n",
        "for n in max_depth:\n",
        "  sys.stdout.write('{}/50'.format(n))\n",
        "  \n",
        "  xgb = xgboost.XGBClassifier(max_depth=n, n_estimators=10, learning_rate=0.1,\n",
        "                              n_jobs=-1).fit(X_train, y_train)\n",
        "  y_pred = xgb.predict(X_valid)\n",
        "  score.append(accuracy_score(y_valid, y_pred))\n",
        "  \n",
        "  sys.stdout.flush()\n",
        "  sys.stdout.write('\\r')\n"
      ],
      "execution_count": 0,
      "outputs": [
        {
          "output_type": "stream",
          "text": [
            ""
          ],
          "name": "stdout"
        }
      ]
    },
    {
      "cell_type": "code",
      "metadata": {
        "id": "NQECETKkI9lj",
        "colab_type": "code",
        "outputId": "fbe7911d-8656-4c2c-c10c-9fd64b2a0454",
        "colab": {
          "base_uri": "https://localhost:8080/",
          "height": 357
        }
      },
      "source": [
        "fig, ax = plt.subplots(1, figsize=(10, 5))\n",
        "ax.plot(range(1, 50, 5), score, label='Accuracy score')\n",
        "ax.set_xlabel('max_depth')\n",
        "ax.set_ylabel('accuracy')"
      ],
      "execution_count": 0,
      "outputs": [
        {
          "output_type": "execute_result",
          "data": {
            "text/plain": [
              "Text(0, 0.5, 'accuracy')"
            ]
          },
          "metadata": {
            "tags": []
          },
          "execution_count": 47
        },
        {
          "output_type": "display_data",
          "data": {
            "image/png": "[encoded data removed]",
            "text/plain": [
              "<Figure size 720x360 with 1 Axes>"
            ]
          },
          "metadata": {
            "tags": []
          }
        }
      ]
    },
    {
      "cell_type": "code",
      "metadata": {
        "id": "Q67xxgmiJJzl",
        "colab_type": "code",
        "colab": {}
      },
      "source": [
        "best_max_depth = 10"
      ],
      "execution_count": 0,
      "outputs": []
    },
    {
      "cell_type": "code",
      "metadata": {
        "id": "Ca3Sg5WMJNow",
        "colab_type": "code",
        "colab": {}
      },
      "source": [
        "score = []\n",
        "\n",
        "for n in n_estimators:\n",
        "  sys.stdout.write('{}/50'.format(n))\n",
        "  \n",
        "  xgb = xgboost.XGBClassifier(max_depth=10, n_estimators=n, learning_rate=0.1,\n",
        "                              n_jobs=-1).fit(X_train, y_train)\n",
        "  y_pred = xgb.predict(X_valid)\n",
        "  score.append(accuracy_score(y_valid, y_pred))\n",
        "  \n",
        "  sys.stdout.flush()\n",
        "  sys.stdout.write('\\r')"
      ],
      "execution_count": 0,
      "outputs": []
    },
    {
      "cell_type": "code",
      "metadata": {
        "id": "B3sJj-ujUD1p",
        "colab_type": "code",
        "outputId": "02b76820-d488-4416-9940-dd7a57a8f34e",
        "colab": {
          "base_uri": "https://localhost:8080/",
          "height": 357
        }
      },
      "source": [
        "fig, ax = plt.subplots(1, figsize=(10, 5))\n",
        "ax.plot(range(0, 50, 5), score, label='Accuracy score')\n",
        "ax.set_xlabel('n_estimators')\n",
        "ax.set_ylabel('accuracy')"
      ],
      "execution_count": 0,
      "outputs": [
        {
          "output_type": "execute_result",
          "data": {
            "text/plain": [
              "Text(0, 0.5, 'accuracy')"
            ]
          },
          "metadata": {
            "tags": []
          },
          "execution_count": 50
        },
        {
          "output_type": "display_data",
          "data": {
            "image/png": "[encoded data removed]",
            "text/plain": [
              "<Figure size 720x360 with 1 Axes>"
            ]
          },
          "metadata": {
            "tags": []
          }
        }
      ]
    },
    {
      "cell_type": "code",
      "metadata": {
        "id": "yRpU_-6RW38a",
        "colab_type": "code",
        "outputId": "15a1bf56-4d2f-45a7-c9bf-d3f5242643ce",
        "colab": {
          "base_uri": "https://localhost:8080/",
          "height": 36
        }
      },
      "source": [
        "xgb = xgboost.XGBClassifier(max_depth=10, n_estimators=5, learning_rate=2,\n",
        "                            n_jobs=-1).fit(X_train, y_train)\n",
        "y_pred = xgb.predict(X_valid)\n",
        "accuracy_score(y_valid, y_pred)"
      ],
      "execution_count": 0,
      "outputs": [
        {
          "output_type": "execute_result",
          "data": {
            "text/plain": [
              "0.8738095238095238"
            ]
          },
          "metadata": {
            "tags": []
          },
          "execution_count": 55
        }
      ]
    },
    {
      "cell_type": "code",
      "metadata": {
        "id": "FUhqUdxPX74X",
        "colab_type": "code",
        "outputId": "06738fe1-b5d8-4fc7-f78e-faa8a60a7015",
        "colab": {
          "base_uri": "https://localhost:8080/",
          "height": 357
        }
      },
      "source": [
        "fig, ax = plt.subplots(1, figsize=(10, 5))\n",
        "ax.plot([0.001, 0.01, 0.1, 1], score, label='Accuracy score')\n",
        "ax.set_xlabel('learning_rate')\n",
        "ax.set_ylabel('accuracy')"
      ],
      "execution_count": 0,
      "outputs": [
        {
          "output_type": "execute_result",
          "data": {
            "text/plain": [
              "Text(0, 0.5, 'accuracy')"
            ]
          },
          "metadata": {
            "tags": []
          },
          "execution_count": 53
        },
        {
          "output_type": "display_data",
          "data": {
            "image/png": "[encoded data removed]",
            "text/plain": [
              "<Figure size 720x360 with 1 Axes>"
            ]
          },
          "metadata": {
            "tags": []
          }
        }
      ]
    },
    {
      "cell_type": "markdown",
      "metadata": {
        "id": "RW6KIRG9YLqk",
        "colab_type": "text"
      },
      "source": [
        "Final predict: *0.93185*"
      ]
    },
    {
      "cell_type": "code",
      "metadata": {
        "id": "-04YWPzly8rF",
        "colab_type": "code",
        "colab": {}
      },
      "source": [
        "xgb = xgboost.XGBClassifier(max_depth=10, n_estimators=5, learning_rate=1,\n",
        "                              n_jobs=-1).fit(X_train, y_train)\n",
        "\n",
        "y_pred = xgb.predict(X_test)\n",
        "\n",
        "results = pd.DataFrame(index=range(1, 28001), columns=['ImageId', 'Label'])\n",
        "results.ImageId = range(1, 28001)\n",
        "results.Label = y_pred\n"
      ],
      "execution_count": 0,
      "outputs": []
    },
    {
      "cell_type": "markdown",
      "metadata": {
        "id": "7_ojzLS2aRkY",
        "colab_type": "text"
      },
      "source": [
        "**KNN**"
      ]
    },
    {
      "cell_type": "code",
      "metadata": {
        "id": "qwK_-HxmaBeh",
        "colab_type": "code",
        "colab": {}
      },
      "source": [
        "knn = KNeighborsClassifier().fit(X_train, y_train)\n",
        "y_pred = knn.predict(X_valid)\n",
        "print accuracy_score(y_valid, y_pred)"
      ],
      "execution_count": 0,
      "outputs": []
    },
    {
      "cell_type": "code",
      "metadata": {
        "id": "LFscGZnSfO0S",
        "colab_type": "code",
        "colab": {}
      },
      "source": [
        "y_pred = knn.predict(X_test)\n",
        "\n",
        "results = pd.DataFrame(index=range(1, 28001), columns=['ImageId', 'Label'])\n",
        "results.ImageId = range(1, 28001)\n",
        "results.Label = y_pred"
      ],
      "execution_count": 0,
      "outputs": []
    },
    {
      "cell_type": "code",
      "metadata": {
        "id": "lI0QcOOMzhll",
        "colab_type": "code",
        "colab": {}
      },
      "source": [
        "results.to_csv('results.csv', index=False)"
      ],
      "execution_count": 0,
      "outputs": []
    },
    {
      "cell_type": "code",
      "metadata": {
        "id": "DybnXo0b0EL4",
        "colab_type": "code",
        "colab": {}
      },
      "source": [
        ""
      ],
      "execution_count": 0,
      "outputs": []
    }
  ]
}